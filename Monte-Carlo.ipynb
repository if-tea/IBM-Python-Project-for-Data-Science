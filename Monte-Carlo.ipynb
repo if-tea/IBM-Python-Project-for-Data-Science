# Importing Packages
import matplotlib.pyplot as plt
import random

# Dice Roll Function
def dice_roll():
    # Generate two random integers from 1 to 6
    dice1 = random.randint(1, 6)
    dice2 = random.randint(1, 6)
    # Return the sum of the two dice
    return dice1 + dice2

# Simulation Parameters
num_trials = 1000 # Number of times to roll the dice
balance = 1000 # Initial balance
bet = 10 # Amount to bet on each roll
win_condition = 7 # Condition to win (sum of dice equals 7)
win_payout = 20 # Amount to win if condition is met

# Simulation Loop
balance_list = [] # List to store balance values
for i in range(num_trials):
    # Call the dice roll function and store the result
    result = dice_roll()
    # Check if the result matches the win condition
    if result == win_condition:
        # Update balance by adding the win payout
        balance += win_payout
    else:
        # Update balance by subtracting the bet amount
        balance -= bet
    # Append the current balance to the list
    balance_list.append(balance)

# Simulation Analysis
# Calculate the mean and standard deviation of balance
mean_balance = sum(balance_list) / num_trials
std_balance = (sum((x - mean_balance) ** 2 for x in balance_list) / num_trials) ** 0.5

# Print the summary statistics
print(f"Mean balance: {mean_balance}")
print(f"Standard deviation of balance: {std_balance}")

# Plot a histogram of balance distribution
plt.hist(balance_list, bins=20)
plt.xlabel("Balance")
plt.ylabel("Frequency")
plt.title("Histogram of Balance Distribution")
plt.show()
